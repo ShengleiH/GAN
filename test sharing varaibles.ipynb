{
 "cells": [
  {
   "cell_type": "markdown",
   "metadata": {},
   "source": [
    "# 1. tf.get_variable & tf.variable_scope"
   ]
  },
  {
   "cell_type": "code",
   "execution_count": 1,
   "metadata": {
    "collapsed": true
   },
   "outputs": [],
   "source": [
    "import tensorflow as tf"
   ]
  },
  {
   "cell_type": "code",
   "execution_count": 2,
   "metadata": {
    "collapsed": true
   },
   "outputs": [],
   "source": [
    "def get_W():\n",
    "    W = tf.get_variable(name='weight', shape=[1], dtype=tf.int32, initializer=tf.constant_initializer(1))\n",
    "    return W\n",
    "\n",
    "def get_A():\n",
    "    A = tf.get_variable(name='a', shape=[1], dtype=tf.int32, initializer=tf.constant_initializer(1))\n",
    "    return A"
   ]
  },
  {
   "cell_type": "code",
   "execution_count": 3,
   "metadata": {
    "collapsed": false
   },
   "outputs": [
    {
     "name": "stdout",
     "output_type": "stream",
     "text": [
      "scope1/weight:0 [2]\n",
      "scope1/weight:0 [3]\n"
     ]
    }
   ],
   "source": [
    "sess = tf.Session()\n",
    "\n",
    "with tf.variable_scope('scope1') as scope:\n",
    "    W1 = get_W()\n",
    "    A1 = get_A()\n",
    "    add_op = W1 + A1\n",
    "   \n",
    "    sess.run(tf.global_variables_initializer())\n",
    "    sess.run(W1.assign(add_op))\n",
    "    print(W1.name, W1.eval(session=sess))\n",
    "    \n",
    "    scope.reuse_variables()\n",
    "    \n",
    "    W2 = tf.get_variable('weight', dtype=tf.int32)\n",
    "    A2 = get_A()\n",
    "    add_op2 = W2 + A2\n",
    "    sess.run(W2.assign(add_op2))\n",
    "    print(W2.name, W2.eval(session=sess))\n",
    "    \n",
    "    # scope1/weight:0 [2]\n",
    "    # scope1/weight:0 [3]"
   ]
  },
  {
   "cell_type": "markdown",
   "metadata": {},
   "source": [
    "# 2. tf.Variable"
   ]
  },
  {
   "cell_type": "code",
   "execution_count": 1,
   "metadata": {
    "collapsed": true
   },
   "outputs": [],
   "source": [
    "import tensorflow as tf"
   ]
  },
  {
   "cell_type": "code",
   "execution_count": 2,
   "metadata": {
    "collapsed": true
   },
   "outputs": [],
   "source": [
    "def get_W():\n",
    "    W = tf.Variable(name='weight', initial_value=[1], dtype=tf.int32)\n",
    "    return W\n",
    "\n",
    "def get_A():\n",
    "    A = tf.Variable(name='a', initial_value=[1], dtype=tf.int32)\n",
    "    return A"
   ]
  },
  {
   "cell_type": "code",
   "execution_count": 3,
   "metadata": {
    "collapsed": false
   },
   "outputs": [
    {
     "name": "stdout",
     "output_type": "stream",
     "text": [
      "weight:0 [2]\n",
      "weight_1:0 [2]\n"
     ]
    }
   ],
   "source": [
    "sess = tf.Session()\n",
    "\n",
    "W1 = get_W()\n",
    "A1 = get_A()\n",
    "add_op = W1 + A1\n",
    "\n",
    "sess.run(tf.global_variables_initializer())\n",
    "sess.run(W1.assign(add_op))\n",
    "print(W1.name, W1.eval(session=sess))\n",
    "\n",
    "W2 = get_W()\n",
    "A2 = get_A()\n",
    "add_op2 = W2 + A2\n",
    "\n",
    "sess.run(tf.global_variables_initializer())\n",
    "sess.run(W2.assign(add_op2))\n",
    "print(W2.name, W2.eval(session=sess))\n",
    "    \n",
    "# weight:0 [2]\n",
    "# weight_1:0 [2]"
   ]
  },
  {
   "cell_type": "markdown",
   "metadata": {
    "collapsed": true
   },
   "source": [
    "# 3. tf.Variable & tf.get_variable"
   ]
  },
  {
   "cell_type": "code",
   "execution_count": 1,
   "metadata": {
    "collapsed": true
   },
   "outputs": [],
   "source": [
    "import tensorflow as tf"
   ]
  },
  {
   "cell_type": "code",
   "execution_count": 2,
   "metadata": {
    "collapsed": false
   },
   "outputs": [],
   "source": [
    "W = tf.Variable(name='weight', initial_value=[1], dtype=tf.int32)\n",
    "\n",
    "def add_one():\n",
    "    add_op = W + [1]\n",
    "    return W.assign(add_op)"
   ]
  },
  {
   "cell_type": "code",
   "execution_count": 3,
   "metadata": {
    "collapsed": false
   },
   "outputs": [
    {
     "name": "stdout",
     "output_type": "stream",
     "text": [
      "weight:0 [2]\n",
      "weight:0 [3]\n"
     ]
    }
   ],
   "source": [
    "sess = tf.Session()\n",
    "sess.run(tf.global_variables_initializer())\n",
    "\n",
    "W_1 = add_one()\n",
    "sess.run(W_1)\n",
    "print(W.name, W.eval(session=sess))\n",
    "\n",
    "W_2 = add_one()\n",
    "sess.run(W_2)\n",
    "print(W.name, W.eval(session=sess))"
   ]
  },
  {
   "cell_type": "markdown",
   "metadata": {},
   "source": [
    "当变量是全局变量的时候，天生就是共享变量"
   ]
  },
  {
   "cell_type": "markdown",
   "metadata": {},
   "source": [
    "# 4. class - tf.Variable & tf.get_variable"
   ]
  },
  {
   "cell_type": "code",
   "execution_count": 1,
   "metadata": {
    "collapsed": true
   },
   "outputs": [],
   "source": [
    "import tensorflow as tf"
   ]
  },
  {
   "cell_type": "code",
   "execution_count": 2,
   "metadata": {
    "collapsed": true
   },
   "outputs": [],
   "source": [
    "class Model:\n",
    "    def __init__(self):\n",
    "        self.W = tf.Variable(name='weight', initial_value=[1], dtype=tf.int32)\n",
    "        \n",
    "        self.add_op = self.W + [1]\n",
    "        self.add_one_op = self.W.assign(self.add_op)\n",
    "        \n",
    "    def add_one(self, sess):\n",
    "        sess.run(self.add_one_op)"
   ]
  },
  {
   "cell_type": "code",
   "execution_count": 18,
   "metadata": {
    "collapsed": false
   },
   "outputs": [
    {
     "name": "stdout",
     "output_type": "stream",
     "text": [
      "weight_15:0 [2]\n",
      "weight_15:0 [3]\n"
     ]
    }
   ],
   "source": [
    "model = Model()\n",
    "sess = tf.Session()\n",
    "sess.run(tf.global_variables_initializer())\n",
    "\n",
    "model.add_one(sess)\n",
    "\n",
    "print(model.W.name, model.W.eval(session=sess))\n",
    "\n",
    "\n",
    "model.add_one(sess)\n",
    "\n",
    "print(model.W.name, model.W.eval(session=sess))"
   ]
  },
  {
   "cell_type": "markdown",
   "metadata": {},
   "source": [
    "在类的封装下， 天生就是共享变量的，只要model被初始化一次，model中的同名变量就只存在一个。\n",
    "\n",
    "在没有类的封装下，共享变量需要通过 tf.get_variable 和 tf.variable_scope 来设定。"
   ]
  },
  {
   "cell_type": "code",
   "execution_count": null,
   "metadata": {
    "collapsed": true
   },
   "outputs": [],
   "source": []
  }
 ],
 "metadata": {
  "kernelspec": {
   "display_name": "Python 3",
   "language": "python",
   "name": "python3"
  },
  "language_info": {
   "codemirror_mode": {
    "name": "ipython",
    "version": 3
   },
   "file_extension": ".py",
   "mimetype": "text/x-python",
   "name": "python",
   "nbconvert_exporter": "python",
   "pygments_lexer": "ipython3",
   "version": "3.6.0"
  }
 },
 "nbformat": 4,
 "nbformat_minor": 2
}
